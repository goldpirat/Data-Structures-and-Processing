{
 "cells": [
  {
   "cell_type": "markdown",
   "metadata": {},
   "source": [
    "# Exploratory Data Analysis\n",
    "\n",
    "In this assignment we will work with data about the Titanic's passengers.\n",
    "\n",
    "Objectives:\n",
    "* to familiarize you with the seaborn library\n",
    "* learn how to build different visualizations\n",
    "* fill the gaps in the data\n",
    "* encode categorical data"
   ]
  },
  {
   "cell_type": "code",
   "execution_count": 1,
   "metadata": {},
   "outputs": [
    {
     "name": "stdout",
     "output_type": "stream",
     "text": [
      "%pylab is deprecated, use %matplotlib inline and import the required libraries.\n",
      "Populating the interactive namespace from numpy and matplotlib\n"
     ]
    }
   ],
   "source": [
    "import pandas as pd\n",
    "import numpy as np\n",
    "from matplotlib  import pyplot as plt\n",
    "import seaborn as sns\n",
    "%pylab inline"
   ]
  },
  {
   "cell_type": "markdown",
   "metadata": {},
   "source": [
    "Let's load the data."
   ]
  },
  {
   "cell_type": "code",
   "execution_count": 2,
   "metadata": {},
   "outputs": [],
   "source": [
    "df = pd.read_csv(\"titanic.csv\")"
   ]
  },
  {
   "cell_type": "markdown",
   "metadata": {},
   "source": [
    "### Task 1\n",
    "Display the first 7 rows of the table and the table dimensions."
   ]
  },
  {
   "cell_type": "code",
   "execution_count": 3,
   "metadata": {},
   "outputs": [
    {
     "name": "stdout",
     "output_type": "stream",
     "text": [
      "   PassengerId  Survived  Pclass  \\\n",
      "0          1.0       0.0     3.0   \n",
      "1          2.0       1.0     1.0   \n",
      "2          3.0       1.0     3.0   \n",
      "3          4.0       1.0     1.0   \n",
      "4          5.0       0.0     3.0   \n",
      "5          NaN       NaN     NaN   \n",
      "6          7.0       0.0     1.0   \n",
      "\n",
      "                                                Name     Sex   Age  SibSp  \\\n",
      "0                            Braund; Mr. Owen Harris    male  22.0    1.0   \n",
      "1  Cumings; Mrs. John Bradley (Florence Briggs Th...  female  38.0    1.0   \n",
      "2                             Heikkinen; Miss. Laina  female  26.0    0.0   \n",
      "3       Futrelle; Mrs. Jacques Heath (Lily May Peel)  female  35.0    1.0   \n",
      "4                           Allen; Mr. William Henry    male  35.0    0.0   \n",
      "5                                                NaN     NaN   NaN    NaN   \n",
      "6                            McCarthy; Mr. Timothy J    male  54.0    0.0   \n",
      "\n",
      "   Parch            Ticket     Fare Cabin Embarked  \n",
      "0    0.0         A/5 21171   7.2500   NaN        S  \n",
      "1    0.0          PC 17599  71.2833   C85        C  \n",
      "2    0.0  STON/O2. 3101282   7.9250   NaN        S  \n",
      "3    0.0            113803  53.1000  C123        S  \n",
      "4    0.0            373450   8.0500   NaN        S  \n",
      "5    NaN               NaN      NaN   NaN      NaN  \n",
      "6    0.0             17463  51.8625   E46        S  \n"
     ]
    }
   ],
   "source": [
    "print(df.head(7))"
   ]
  },
  {
   "cell_type": "markdown",
   "metadata": {},
   "source": [
    "# Feature Processing\n",
    "\n",
    "1) Find columns that have missing values and process these missing values\n",
    "\n",
    "2) Translate categorical features into numerical"
   ]
  },
  {
   "cell_type": "markdown",
   "metadata": {},
   "source": [
    "### Task 2 \n",
    "Output the basic numerical characteristics of the numerical columns. The method `.describe()` can be very usefull here."
   ]
  },
  {
   "cell_type": "code",
   "execution_count": 4,
   "metadata": {},
   "outputs": [
    {
     "name": "stdout",
     "output_type": "stream",
     "text": [
      "       PassengerId    Survived      Pclass         Age       SibSp  \\\n",
      "count   886.000000  886.000000  886.000000  711.000000  886.000000   \n",
      "mean    448.316027    0.383747    2.305869   29.743094    0.523702   \n",
      "std     256.211467    0.486572    0.837071   14.505873    1.105202   \n",
      "min       1.000000    0.000000    1.000000    0.420000    0.000000   \n",
      "25%     227.250000    0.000000    2.000000   20.750000    0.000000   \n",
      "50%     448.500000    0.000000    3.000000   28.000000    0.000000   \n",
      "75%     669.750000    1.000000    3.000000   38.000000    1.000000   \n",
      "max     891.000000    1.000000    3.000000   80.000000    8.000000   \n",
      "\n",
      "            Parch        Fare  \n",
      "count  886.000000  886.000000  \n",
      "mean     0.375847   32.279387  \n",
      "std      0.791082   49.817969  \n",
      "min      0.000000    0.000000  \n",
      "25%      0.000000    7.903100  \n",
      "50%      0.000000   14.454200  \n",
      "75%      0.000000   31.000000  \n",
      "max      6.000000  512.329200  \n"
     ]
    }
   ],
   "source": [
    "print(df.describe())"
   ]
  },
  {
   "cell_type": "markdown",
   "metadata": {},
   "source": [
    "The function does not allow you to see if there are missing values in non-numeric columns.\n",
    "\n",
    "## Process the 'Sex' column\n",
    "\n",
    "### Task 3\n",
    "Check if there are missing values in the column."
   ]
  },
  {
   "cell_type": "code",
   "execution_count": 5,
   "metadata": {},
   "outputs": [
    {
     "name": "stdout",
     "output_type": "stream",
     "text": [
      "Missing values in 'Sex': 5\n"
     ]
    }
   ],
   "source": [
    "missinginsex = df['Sex'].isnull().sum()\n",
    "print(\"Missing values in 'Sex':\", missinginsex)"
   ]
  },
  {
   "cell_type": "markdown",
   "metadata": {},
   "source": [
    "### Task 4\n",
    "You should get 5 in the previous taks. It is a very small amount. Therefore, we can remove them completely from the dataset. Do it."
   ]
  },
  {
   "cell_type": "code",
   "execution_count": 6,
   "metadata": {},
   "outputs": [
    {
     "name": "stdout",
     "output_type": "stream",
     "text": [
      "New Dimensions: (886, 12)\n"
     ]
    }
   ],
   "source": [
    "df = df.dropna(subset=['Sex'])\n",
    "print(\"New Dimensions:\", df.shape)"
   ]
  },
  {
   "cell_type": "markdown",
   "metadata": {},
   "source": [
    "The `Sex` feature is categorical, i.e. it contains non-numeric values. For most algorithms to work, it is necessary to map categories into numbers. How can this be done? \n",
    "\n",
    "### Task 5 \n",
    "Encode the categorical features with any method. For example, you can values to 0 and 1, since this feature is binary (the function `.replace` does it)."
   ]
  },
  {
   "cell_type": "code",
   "execution_count": 7,
   "metadata": {},
   "outputs": [
    {
     "name": "stdout",
     "output_type": "stream",
     "text": [
      "0    0\n",
      "1    1\n",
      "2    1\n",
      "3    1\n",
      "4    0\n",
      "Name: Sex, dtype: int64\n"
     ]
    }
   ],
   "source": [
    "df['Sex'] = df['Sex'].replace({'male': 0, 'female': 1})\n",
    "print(df['Sex'].head())"
   ]
  },
  {
   "cell_type": "markdown",
   "metadata": {},
   "source": [
    "Let's see how gender affects survival rates."
   ]
  },
  {
   "cell_type": "code",
   "execution_count": 8,
   "metadata": {},
   "outputs": [
    {
     "data": {
      "image/png": "[encoded data removed]",
      "text/plain": [
       "<Figure size 640x480 with 1 Axes>"
      ]
     },
     "metadata": {},
     "output_type": "display_data"
    }
   ],
   "source": [
    "sns.barplot(x='Sex', y='Survived', data=df, palette='summer')\n",
    "plt.title('Sex - Survived')\n",
    "plt.show()"
   ]
  },
  {
   "cell_type": "markdown",
   "metadata": {},
   "source": [
    "Let's see how a person's gender and ticket class (Pclass) affect survival rates"
   ]
  },
  {
   "cell_type": "code",
   "execution_count": 9,
   "metadata": {},
   "outputs": [
    {
     "data": {
      "image/png": "[encoded data removed]",
      "text/plain": [
       "<Figure size 640x480 with 1 Axes>"
      ]
     },
     "metadata": {},
     "output_type": "display_data"
    }
   ],
   "source": [
    "sns.barplot(x='Sex', y='Survived', hue='Pclass', data=df, palette='autumn')\n",
    "plt.title('Sex - Survived')\n",
    "plt.show()"
   ]
  },
  {
   "cell_type": "markdown",
   "metadata": {},
   "source": [
    "Another useful type of visualization is the box plot box. Let's look at a box plot that reflects the distribution of passengers by gender and age."
   ]
  },
  {
   "cell_type": "code",
   "execution_count": 10,
   "metadata": {},
   "outputs": [
    {
     "data": {
      "image/png": "[encoded data removed]",
      "text/plain": [
       "<Figure size 500x500 with 1 Axes>"
      ]
     },
     "metadata": {},
     "output_type": "display_data"
    }
   ],
   "source": [
    "sns.catplot(x=\"Sex\", y=\"Age\", data=df, kind=\"box\")\n",
    "plt.show()"
   ]
  },
  {
   "cell_type": "markdown",
   "metadata": {},
   "source": [
    "We can detail the picture by adding Pclass separation."
   ]
  },
  {
   "cell_type": "code",
   "execution_count": 11,
   "metadata": {},
   "outputs": [
    {
     "data": {
      "image/png": "[encoded data removed]",
      "text/plain": [
       "<Figure size 572.125x500 with 1 Axes>"
      ]
     },
     "metadata": {},
     "output_type": "display_data"
    }
   ],
   "source": [
    "sns.catplot(x=\"Sex\", y=\"Age\",hue =\"Pclass\", data=df, kind=\"box\")\n",
    "plt.show()"
   ]
  },
  {
   "cell_type": "markdown",
   "metadata": {},
   "source": [
    "## Process the 'Embarked' feature"
   ]
  },
  {
   "cell_type": "code",
   "execution_count": 12,
   "metadata": {},
   "outputs": [
    {
     "name": "stdout",
     "output_type": "stream",
     "text": [
      "S      641\n",
      "C      168\n",
      "Q       75\n",
      "NaN      2\n",
      "Name: Embarked, dtype: int64\n"
     ]
    },
    {
     "data": {
      "text/plain": [
       "(886, 12)"
      ]
     },
     "execution_count": 12,
     "metadata": {},
     "output_type": "execute_result"
    }
   ],
   "source": [
    "print(df['Embarked'].value_counts(dropna=False))\n",
    "df.shape"
   ]
  },
  {
   "cell_type": "markdown",
   "metadata": {},
   "source": [
    "### Task 6\n",
    "Remove passengers from the table for whom the port of embarkation (Embarked) is unknown."
   ]
  },
  {
   "cell_type": "code",
   "execution_count": 13,
   "metadata": {},
   "outputs": [
    {
     "name": "stdout",
     "output_type": "stream",
     "text": [
      "New Dimensions (884, 12)\n"
     ]
    }
   ],
   "source": [
    "df = df.dropna(subset=['Embarked'])\n",
    "print(\"New Dimensions\", df.shape)"
   ]
  },
  {
   "cell_type": "markdown",
   "metadata": {},
   "source": [
    "Let's convert the categorical column to numeric columns using One-Hot Encoding, namely, create three numeric columns as follows:"
   ]
  },
  {
   "cell_type": "code",
   "execution_count": 14,
   "metadata": {},
   "outputs": [],
   "source": [
    "# df['EmbS'] = df.apply(lambda row: 1 if row.Embarked == 'S' else 0, axis=1)\n",
    "# df['EmbC'] = df.apply(lambda row: 1 if row.Embarked == 'C' else 0, axis=1)\n",
    "# df['EmbQ'] = df.apply(lambda row: 1 if row.Embarked == 'Q' else 0, axis=1)"
   ]
  },
  {
   "cell_type": "markdown",
   "metadata": {},
   "source": [
    "This operation can be done using the `get_dummies` method."
   ]
  },
  {
   "cell_type": "code",
   "execution_count": 15,
   "metadata": {},
   "outputs": [
    {
     "data": {
      "text/html": [
       "<div>\n",
       "<style scoped>\n",
       "    .dataframe tbody tr th:only-of-type {\n",
       "        vertical-align: middle;\n",
       "    }\n",
       "\n",
       "    .dataframe tbody tr th {\n",
       "        vertical-align: top;\n",
       "    }\n",
       "\n",
       "    .dataframe thead th {\n",
       "        text-align: right;\n",
       "    }\n",
       "</style>\n",
       "<table border=\"1\" class=\"dataframe\">\n",
       "  <thead>\n",
       "    <tr style=\"text-align: right;\">\n",
       "      <th></th>\n",
       "      <th>C</th>\n",
       "      <th>Q</th>\n",
       "      <th>S</th>\n",
       "    </tr>\n",
       "  </thead>\n",
       "  <tbody>\n",
       "    <tr>\n",
       "      <th>0</th>\n",
       "      <td>0</td>\n",
       "      <td>0</td>\n",
       "      <td>1</td>\n",
       "    </tr>\n",
       "    <tr>\n",
       "      <th>1</th>\n",
       "      <td>1</td>\n",
       "      <td>0</td>\n",
       "      <td>0</td>\n",
       "    </tr>\n",
       "    <tr>\n",
       "      <th>2</th>\n",
       "      <td>0</td>\n",
       "      <td>0</td>\n",
       "      <td>1</td>\n",
       "    </tr>\n",
       "    <tr>\n",
       "      <th>3</th>\n",
       "      <td>0</td>\n",
       "      <td>0</td>\n",
       "      <td>1</td>\n",
       "    </tr>\n",
       "    <tr>\n",
       "      <th>4</th>\n",
       "      <td>0</td>\n",
       "      <td>0</td>\n",
       "      <td>1</td>\n",
       "    </tr>\n",
       "    <tr>\n",
       "      <th>...</th>\n",
       "      <td>...</td>\n",
       "      <td>...</td>\n",
       "      <td>...</td>\n",
       "    </tr>\n",
       "    <tr>\n",
       "      <th>886</th>\n",
       "      <td>0</td>\n",
       "      <td>0</td>\n",
       "      <td>1</td>\n",
       "    </tr>\n",
       "    <tr>\n",
       "      <th>887</th>\n",
       "      <td>0</td>\n",
       "      <td>0</td>\n",
       "      <td>1</td>\n",
       "    </tr>\n",
       "    <tr>\n",
       "      <th>888</th>\n",
       "      <td>0</td>\n",
       "      <td>0</td>\n",
       "      <td>1</td>\n",
       "    </tr>\n",
       "    <tr>\n",
       "      <th>889</th>\n",
       "      <td>1</td>\n",
       "      <td>0</td>\n",
       "      <td>0</td>\n",
       "    </tr>\n",
       "    <tr>\n",
       "      <th>890</th>\n",
       "      <td>0</td>\n",
       "      <td>1</td>\n",
       "      <td>0</td>\n",
       "    </tr>\n",
       "  </tbody>\n",
       "</table>\n",
       "<p>884 rows × 3 columns</p>\n",
       "</div>"
      ],
      "text/plain": [
       "     C  Q  S\n",
       "0    0  0  1\n",
       "1    1  0  0\n",
       "2    0  0  1\n",
       "3    0  0  1\n",
       "4    0  0  1\n",
       "..  .. .. ..\n",
       "886  0  0  1\n",
       "887  0  0  1\n",
       "888  0  0  1\n",
       "889  1  0  0\n",
       "890  0  1  0\n",
       "\n",
       "[884 rows x 3 columns]"
      ]
     },
     "execution_count": 15,
     "metadata": {},
     "output_type": "execute_result"
    }
   ],
   "source": [
    "pd.get_dummies(df['Embarked'])"
   ]
  },
  {
   "cell_type": "markdown",
   "metadata": {},
   "source": [
    "### Task 7\n",
    "Remove the categorical column `Embarked` from the table and add new columns to it, obtained using `get_dummies`."
   ]
  },
  {
   "cell_type": "code",
   "execution_count": 16,
   "metadata": {},
   "outputs": [
    {
     "name": "stdout",
     "output_type": "stream",
     "text": [
      "   PassengerId  Survived  Pclass  \\\n",
      "0          1.0       0.0     3.0   \n",
      "1          2.0       1.0     1.0   \n",
      "2          3.0       1.0     3.0   \n",
      "3          4.0       1.0     1.0   \n",
      "4          5.0       0.0     3.0   \n",
      "\n",
      "                                                Name  Sex   Age  SibSp  Parch  \\\n",
      "0                            Braund; Mr. Owen Harris    0  22.0    1.0    0.0   \n",
      "1  Cumings; Mrs. John Bradley (Florence Briggs Th...    1  38.0    1.0    0.0   \n",
      "2                             Heikkinen; Miss. Laina    1  26.0    0.0    0.0   \n",
      "3       Futrelle; Mrs. Jacques Heath (Lily May Peel)    1  35.0    1.0    0.0   \n",
      "4                           Allen; Mr. William Henry    0  35.0    0.0    0.0   \n",
      "\n",
      "             Ticket     Fare Cabin  Emb_C  Emb_Q  Emb_S  \n",
      "0         A/5 21171   7.2500   NaN      0      0      1  \n",
      "1          PC 17599  71.2833   C85      1      0      0  \n",
      "2  STON/O2. 3101282   7.9250   NaN      0      0      1  \n",
      "3            113803  53.1000  C123      0      0      1  \n",
      "4            373450   8.0500   NaN      0      0      1  \n"
     ]
    }
   ],
   "source": [
    "embarked_dummies = pd.get_dummies(df['Embarked'], prefix='Emb')\n",
    "\n",
    "df = pd.concat([df, embarked_dummies], axis=1)\n",
    "df.drop('Embarked', axis=1, inplace=True)\n",
    "\n",
    "print(df.head())"
   ]
  },
  {
   "cell_type": "markdown",
   "metadata": {},
   "source": [
    "## Process the 'Age' feature\n",
    "\n",
    "Check if `Age` has any missing values."
   ]
  },
  {
   "cell_type": "code",
   "execution_count": 17,
   "metadata": {
    "scrolled": true
   },
   "outputs": [
    {
     "data": {
      "text/plain": [
       "175"
      ]
     },
     "execution_count": 17,
     "metadata": {},
     "output_type": "execute_result"
    }
   ],
   "source": [
    "df.Age.isna().sum()"
   ]
  },
  {
   "cell_type": "markdown",
   "metadata": {},
   "source": [
    "Let's fill in the blanks with the median `Age` value."
   ]
  },
  {
   "cell_type": "code",
   "execution_count": 18,
   "metadata": {},
   "outputs": [],
   "source": [
    "median_age = df['Age'].median()\n",
    "\n",
    "df['Age'].fillna(median_age, inplace=True)"
   ]
  },
  {
   "cell_type": "markdown",
   "metadata": {},
   "source": [
    "Let's plot the age distribution of the passengers."
   ]
  },
  {
   "cell_type": "code",
   "execution_count": 19,
   "metadata": {},
   "outputs": [
    {
     "data": {
      "image/png": "[encoded data removed]",
      "text/plain": [
       "<Figure size 500x500 with 1 Axes>"
      ]
     },
     "metadata": {},
     "output_type": "display_data"
    }
   ],
   "source": [
    "sns.displot(df['Age'], kde=False)\n",
    "plt.show()"
   ]
  },
  {
   "cell_type": "markdown",
   "metadata": {},
   "source": [
    "We can also look at the age distribution of `Pclass`."
   ]
  },
  {
   "cell_type": "code",
   "execution_count": 20,
   "metadata": {},
   "outputs": [
    {
     "data": {
      "image/png": "[encoded data removed]",
      "text/plain": [
       "<Figure size 372.125x300 with 1 Axes>"
      ]
     },
     "metadata": {},
     "output_type": "display_data"
    }
   ],
   "source": [
    "facet = sns.FacetGrid(data=df, hue=\"Pclass\", legend_out=True)\n",
    "facet = facet.map(sns.kdeplot, \"Age\")\n",
    "facet.add_legend();"
   ]
  },
  {
   "cell_type": "markdown",
   "metadata": {},
   "source": [
    "### Process the 'Fare' feature\n",
    "\n",
    "1) Check if there are any missing values in `Fare`\n",
    "\n",
    "2) If there are missing values, fill them with the _median_ value of `Fare`"
   ]
  },
  {
   "cell_type": "code",
   "execution_count": 21,
   "metadata": {
    "scrolled": true
   },
   "outputs": [
    {
     "name": "stdout",
     "output_type": "stream",
     "text": [
      "Missing in Fare: 0\n"
     ]
    }
   ],
   "source": [
    "print(\"Missing in Fare:\", df['Fare'].isna().sum())\n",
    "\n",
    "if df['Fare'].isna().sum() > 0:\n",
    "    median_fare = df['Fare'].median()\n",
    "    df['Fare'].fillna(median_fare, inplace=True)\n",
    "    print(\"Filled missing 'Fare' values:\", median_fare)\n"
   ]
  },
  {
   "cell_type": "markdown",
   "metadata": {},
   "source": [
    "### Process the 'Pclass' feature\n",
    "\n",
    "Are there any missing values in `Pclass`?"
   ]
  },
  {
   "cell_type": "code",
   "execution_count": 22,
   "metadata": {},
   "outputs": [
    {
     "name": "stdout",
     "output_type": "stream",
     "text": [
      "Missing values in 'Pclass': 0\n",
      "3.0    487\n",
      "1.0    214\n",
      "2.0    183\n",
      "Name: Pclass, dtype: int64\n"
     ]
    }
   ],
   "source": [
    "print(\"Missing values in 'Pclass':\", df['Pclass'].isna().sum())\n",
    "print(df['Pclass'].value_counts(dropna=False))\n"
   ]
  },
  {
   "cell_type": "markdown",
   "metadata": {},
   "source": [
    "### Task 8\n",
    "Draw a histogram of survival rates as a function of `Pclass`."
   ]
  },
  {
   "cell_type": "code",
   "execution_count": 23,
   "metadata": {},
   "outputs": [
    {
     "data": {
      "image/png": "[encoded data removed]",
      "text/plain": [
       "<Figure size 640x480 with 1 Axes>"
      ]
     },
     "metadata": {},
     "output_type": "display_data"
    }
   ],
   "source": [
    "sns.countplot(x='Pclass', hue='Survived', data=df)\n",
    "plt.title('Survival Rates by Pclass')\n",
    "plt.show()\n"
   ]
  },
  {
   "cell_type": "markdown",
   "metadata": {},
   "source": [
    "### Process the feature 'SibSp' (number of siblings, husbands, wives)\n",
    "\n",
    "Are there any missing values in `SibSp`?"
   ]
  },
  {
   "cell_type": "code",
   "execution_count": 24,
   "metadata": {},
   "outputs": [
    {
     "name": "stdout",
     "output_type": "stream",
     "text": [
      "Missing values in 'SibSp': 0\n"
     ]
    }
   ],
   "source": [
    "missing_sibsp = df['SibSp'].isna().sum()\n",
    "print(f\"Missing values in 'SibSp': {missing_sibsp}\")\n"
   ]
  },
  {
   "cell_type": "markdown",
   "metadata": {},
   "source": [
    "### Task 9\n",
    "The `PassengerId` column is categorical and does not carry important information, delete it."
   ]
  },
  {
   "cell_type": "code",
   "execution_count": 25,
   "metadata": {},
   "outputs": [
    {
     "name": "stdout",
     "output_type": "stream",
     "text": [
      "Updated DataFrame:\n",
      "   Survived  Pclass                                               Name  Sex  \\\n",
      "0       0.0     3.0                            Braund; Mr. Owen Harris    0   \n",
      "1       1.0     1.0  Cumings; Mrs. John Bradley (Florence Briggs Th...    1   \n",
      "2       1.0     3.0                             Heikkinen; Miss. Laina    1   \n",
      "3       1.0     1.0       Futrelle; Mrs. Jacques Heath (Lily May Peel)    1   \n",
      "4       0.0     3.0                           Allen; Mr. William Henry    0   \n",
      "\n",
      "    Age  SibSp  Parch            Ticket     Fare Cabin  Emb_C  Emb_Q  Emb_S  \n",
      "0  22.0    1.0    0.0         A/5 21171   7.2500   NaN      0      0      1  \n",
      "1  38.0    1.0    0.0          PC 17599  71.2833   C85      1      0      0  \n",
      "2  26.0    0.0    0.0  STON/O2. 3101282   7.9250   NaN      0      0      1  \n",
      "3  35.0    1.0    0.0            113803  53.1000  C123      0      0      1  \n",
      "4  35.0    0.0    0.0            373450   8.0500   NaN      0      0      1  \n"
     ]
    }
   ],
   "source": [
    "df.drop('PassengerId', axis=1, inplace=True)\n",
    "print(\"Updated DataFrame:\")\n",
    "print(df.head())\n"
   ]
  },
  {
   "cell_type": "code",
   "execution_count": null,
   "metadata": {},
   "outputs": [],
   "source": []
  },
  {
   "cell_type": "code",
   "execution_count": null,
   "metadata": {},
   "outputs": [],
   "source": []
  },
  {
   "cell_type": "code",
   "execution_count": null,
   "metadata": {},
   "outputs": [],
   "source": []
  },
  {
   "cell_type": "code",
   "execution_count": null,
   "metadata": {},
   "outputs": [],
   "source": []
  },
  {
   "cell_type": "code",
   "execution_count": null,
   "metadata": {},
   "outputs": [],
   "source": []
  }
 ],
 "metadata": {
  "kernelspec": {
   "display_name": "Python 3 (ipykernel)",
   "language": "python",
   "name": "python3"
  },
  "language_info": {
   "codemirror_mode": {
    "name": "ipython",
    "version": 3
   },
   "file_extension": ".py",
   "mimetype": "text/x-python",
   "name": "python",
   "nbconvert_exporter": "python",
   "pygments_lexer": "ipython3",
   "version": "3.11.4"
  },
  "nteract": {
   "version": "nteract-front-end@1.0.0"
  }
 },
 "nbformat": 4,
 "nbformat_minor": 2
}
