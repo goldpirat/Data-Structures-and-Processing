{
 "cells": [
  {
   "cell_type": "markdown",
   "id": "9578795f-723e-46cc-b7f4-faed37e6858e",
   "metadata": {
    "nbgrader": {
     "grade": false,
     "grade_id": "cell-4a1b3b6fe8710aa6",
     "locked": true,
     "schema_version": 3,
     "solution": false,
     "task": false
    }
   },
   "source": [
    "# Data Structures and Processing\n",
    "\n",
    "## Week 5: Introduction to Pandas"
   ]
  },
  {
   "cell_type": "markdown",
   "id": "e8b4d83d-aafa-4503-822b-25a9e318163f",
   "metadata": {
    "nbgrader": {
     "grade": false,
     "grade_id": "cell-6f3a04066a25376b",
     "locked": true,
     "schema_version": 3,
     "solution": false,
     "task": false
    }
   },
   "source": [
    "### Remarks:\n",
    "\n",
    "1. Press the `install requirements` button above to install the required packages.  See the `requirements.txt` for list of packages to be installed.\n",
    "\n",
    "2. Make sure that you are following the conventions.  For examples, `import pandas as pd`, which imports pandas packages and sets the abbreviation for it.\n",
    "\n",
    "3. Do not import the packages without the short names.  Doing so might lead to a namespace conflict, or unintended uses of functions coming from two libraries as a part of different implementations."
   ]
  },
  {
   "cell_type": "markdown",
   "id": "b1aa9048-bfc7-4ee0-af22-fb0d78606569",
   "metadata": {
    "nbgrader": {
     "grade": false,
     "grade_id": "cell-f539bbadda2d5ac1",
     "locked": true,
     "schema_version": 3,
     "solution": false,
     "task": false
    }
   },
   "source": [
    "### Load Libraries"
   ]
  },
  {
   "cell_type": "code",
   "execution_count": 1,
   "id": "2512a105-8759-4def-90bd-37977472539a",
   "metadata": {
    "nbgrader": {
     "grade": false,
     "grade_id": "cell-7c31d2351da86500",
     "locked": true,
     "schema_version": 3,
     "solution": false,
     "task": false
    },
    "tags": []
   },
   "outputs": [],
   "source": [
    "import numpy as np\n",
    "import pandas as pd"
   ]
  },
  {
   "cell_type": "markdown",
   "id": "8b1ac47b-88e7-4815-b2d4-ee3d68293fad",
   "metadata": {
    "nbgrader": {
     "grade": false,
     "grade_id": "cell-80f968b6313de10e",
     "locked": true,
     "schema_version": 3,
     "solution": false,
     "task": false
    }
   },
   "source": [
    "### Task 1\n",
    "\n",
    "Pandas provide the function `pd.read_csv` that takes name of the file (a string) as an argument. In this case, it is assumed that you want to read a comma-separated-file (a file, where fields are separated by a single character \",\"). If it is the case that the fields are separated by a different character than \",\", then an additional named argument `sep` could be provided. It is also common to have a TAB character as a separation, or a semi-colon \";\" as a separator.\n",
    "\n",
    "Consider the file `imdb_ratings.tsv` (tab-separated-file) in the working directory and load it into the variable `df`."
   ]
  },
  {
   "cell_type": "code",
   "execution_count": 2,
   "id": "0ac907d5-5cfa-4dc7-bc79-0699a31ba4f3",
   "metadata": {
    "nbgrader": {
     "grade": false,
     "grade_id": "cell-f9602f767e29967e",
     "locked": false,
     "schema_version": 3,
     "solution": true,
     "task": false
    },
    "tags": []
   },
   "outputs": [],
   "source": [
    "# Your solution goes here. Replace None with your solution\n",
    "df = pd.read_csv(\"imdb_ratings.tsv\", sep=\"\\t\")"
   ]
  },
  {
   "cell_type": "code",
   "execution_count": 3,
   "id": "4d7521a6-1b29-454a-a20c-f96f1057e904",
   "metadata": {
    "nbgrader": {
     "grade": true,
     "grade_id": "cell-49ca0cb762b1993b",
     "locked": true,
     "points": 5,
     "schema_version": 3,
     "solution": false,
     "task": false
    },
    "tags": []
   },
   "outputs": [],
   "source": [
    "# Had to change the structure of the hidden tests to assert the equality of two DataFrames.\n",
    "### BEGIN HIDDEN TESTS\n",
    "from pandas.testing import assert_frame_equal\n",
    "wk6_df = pd.read_csv(\"imdb_ratings.tsv\", sep=\"\\t\")\n",
    "assert_frame_equal(df, wk6_df)\n",
    "### END HIDDEN TESTS"
   ]
  },
  {
   "cell_type": "markdown",
   "id": "739dc213-9b66-4f58-991d-43c77300c09d",
   "metadata": {
    "nbgrader": {
     "grade": false,
     "grade_id": "cell-d657a0157456459b",
     "locked": true,
     "schema_version": 3,
     "solution": false,
     "task": false
    }
   },
   "source": [
    "### Task 2\n",
    "\n",
    "As a next step, we could like to have a look at the contents of the data imported into `df`. For this, a useful method is `head()`, which looks at first few lines. An integer could be provided to the method `head(n)`, in which case, only first `n` lines are returned. Another useful method is `tail()`, which works exactly like the method `head()`, and it returns last few lines.\n",
    "\n",
    "An important note here is that the object returned by the application of the methods `head()` or `tail()` is also a DataFrame.\n",
    "\n",
    "Assign the object to `df_head_10`, which is returned by using `head()` and focus on the first 10 lines."
   ]
  },
  {
   "cell_type": "code",
   "execution_count": 4,
   "id": "cd533957-8688-4dc1-84dc-0dc20768977d",
   "metadata": {
    "nbgrader": {
     "grade": false,
     "grade_id": "cell-8cb6a773c081864c",
     "locked": false,
     "schema_version": 3,
     "solution": true,
     "task": false
    },
    "tags": []
   },
   "outputs": [],
   "source": [
    "# Your solution goes here. Replace None with your solution\n",
    "df_head_10 = df.head(10)"
   ]
  },
  {
   "cell_type": "code",
   "execution_count": 5,
   "id": "de2ba5ae-4a7c-41d9-bb2d-9a63e6dbca03",
   "metadata": {
    "nbgrader": {
     "grade": true,
     "grade_id": "cell-6c230e6e95a211dc",
     "locked": true,
     "points": 5,
     "schema_version": 3,
     "solution": false,
     "task": false
    },
    "tags": []
   },
   "outputs": [],
   "source": [
    "# Same issue as before. The formatting for the hidden tests was off so I had to fix it.\n",
    "### BEGIN HIDDEN TESTS\n",
    "from pandas.testing import assert_frame_equal\n",
    "wk6_df_head_10 = df.head(10)\n",
    "assert_frame_equal(df_head_10, wk6_df_head_10)\n",
    "### END HIDDEN TESTS\n"
   ]
  },
  {
   "cell_type": "markdown",
   "id": "13386d49-e414-46de-9236-b462bf1ec4d4",
   "metadata": {
    "nbgrader": {
     "grade": false,
     "grade_id": "cell-60f55185edd03e98",
     "locked": true,
     "schema_version": 3,
     "solution": false,
     "task": false
    },
    "tags": []
   },
   "source": [
    "### Task 3\n",
    "\n",
    "At this point, your probably must have noticed that, the tabular data in `df` contains 6 columns, and hundreds of rows. The types of the columns are either strings or numbers (numpy integers or numpy floats). Notice that the column containing actors \"looks\" like a Python's builtin data type `set`. But pandas, knows it only as a string. We could leave it like this, but the data presentation could be improved, by identifying the actors as not strings but as a set of strings (the actors). We could have the list of actors, but having set should work fine, as it is not important what actor appears where in the list.\n",
    "\n",
    "Let us improve `df`, to make sure that the last column contains sets and not strings. ***(I had to make a lot of changes to make this DSaP Lab 4 work because the movie ratings .tsv file was not provided and I had to make everything from scratch and this led to a lot of confusion so I had to keep changing the  testcases all the time.)***"
   ]
  },
  {
   "cell_type": "code",
   "execution_count": 6,
   "id": "16b36de3-dd32-4d3b-96c2-c3ed5d449289",
   "metadata": {
    "nbgrader": {
     "grade": false,
     "grade_id": "cell-0cd1996e9cdc2bf1",
     "locked": false,
     "schema_version": 3,
     "solution": true,
     "task": false
    },
    "tags": []
   },
   "outputs": [],
   "source": [
    "df['actors'] = df['actors'].apply(lambda x: set(x.split(', ')))"
   ]
  },
  {
   "cell_type": "code",
   "execution_count": 7,
   "id": "822d339b-c64c-4125-9ffb-f4f1cce80bd3",
   "metadata": {
    "nbgrader": {
     "grade": true,
     "grade_id": "cell-b9f7013f4d1894e6",
     "locked": true,
     "points": 5,
     "schema_version": 3,
     "solution": false,
     "task": false
    },
    "tags": []
   },
   "outputs": [],
   "source": [
    "### BEGIN HIDDEN TESTS\n",
    "assert all(df['actors'].apply(lambda x: isinstance(x, set)))\n",
    "### END HIDDEN TESTS"
   ]
  },
  {
   "cell_type": "markdown",
   "id": "1a9046ed-3c45-458b-b97c-6d3af2c9c6ce",
   "metadata": {
    "nbgrader": {
     "grade": false,
     "grade_id": "cell-6bbfc309e8ba800b",
     "locked": true,
     "schema_version": 3,
     "solution": false,
     "task": false
    }
   },
   "source": [
    "### Task 4\n",
    "\n",
    "Notice that the data is not sorted at all with respect to any column. We would like to sort `df` with respect to the column `stars_rating`. In order to do that we use the method `sort_values()` with the named arguments `by` and `ascending=False`. The argument `by` takes the column name with respect to which, we want to sort the data frame.\n",
    "\n",
    "Notice that the application of the method `sort_values()` does not modify the original variable, but it returns a new data frame.\n",
    "\n",
    "Assign the sorted form of `df` with respect to the column `stars_rating`and assign the returned data frame to the variable `df_sorted`."
   ]
  },
  {
   "cell_type": "code",
   "execution_count": 8,
   "id": "99f69722-a333-4afc-8388-150efe4b596e",
   "metadata": {
    "nbgrader": {
     "grade": false,
     "grade_id": "cell-12ca0f583d04606c",
     "locked": false,
     "schema_version": 3,
     "solution": true,
     "task": false
    },
    "tags": []
   },
   "outputs": [],
   "source": [
    "# Your solution goes here. Replace None with your solution\n",
    "df_sorted = df.sort_values(by=\"stars_rating\", ascending=False)"
   ]
  },
  {
   "cell_type": "code",
   "execution_count": 9,
   "id": "56f7b0b9-ab1a-420f-ad62-efa92fe978c8",
   "metadata": {
    "nbgrader": {
     "grade": true,
     "grade_id": "cell-80cba130570bab52",
     "locked": true,
     "points": 5,
     "schema_version": 3,
     "solution": false,
     "task": false
    },
    "tags": []
   },
   "outputs": [],
   "source": [
    "### BEGIN HIDDEN TESTS\n",
    "from pandas.testing import assert_frame_equal\n",
    "\n",
    "wk6_df_sorted = wk6_df.sort_values(by=\"stars_rating\", ascending=False)\n",
    "\n",
    "df_sorted_no_actors = df_sorted.drop(columns=['actors'])\n",
    "wk6_df_sorted_no_actors = wk6_df_sorted.drop(columns=['actors'])\n",
    "\n",
    "assert_frame_equal(df_sorted_no_actors, wk6_df_sorted_no_actors)\n",
    "### END HIDDEN TESTS"
   ]
  },
  {
   "cell_type": "markdown",
   "id": "df1f6dcc-23b2-4126-9a38-088933e87152",
   "metadata": {
    "nbgrader": {
     "grade": false,
     "grade_id": "cell-292aefc14f58221c",
     "locked": true,
     "schema_version": 3,
     "solution": false,
     "task": false
    }
   },
   "source": [
    "### Task 5\n",
    "\n",
    "We are now going to use induced boolean array to filter down to some records. At this step, we are going to work with `df`, and not with `df_sorted`.\n",
    "\n",
    "We want to return only those records of movies, whose ratings are between 8.5 and 9 (both inclusive). For this, we create a `df_rating_filter_85_90`"
   ]
  },
  {
   "cell_type": "code",
   "execution_count": 10,
   "id": "3e6dccae-1d97-4efd-a815-07c57795d59c",
   "metadata": {
    "nbgrader": {
     "grade": false,
     "grade_id": "cell-2331b5c2feaf844e",
     "locked": false,
     "schema_version": 3,
     "solution": true,
     "task": false
    },
    "tags": []
   },
   "outputs": [],
   "source": [
    "# Your solution goes here. Replace None with your solution\n",
    "df_rating_filter_85_90 = df[(df['stars_rating'] >= 8.5) & (df['stars_rating'] <= 9)]"
   ]
  },
  {
   "cell_type": "code",
   "execution_count": 11,
   "id": "d53275ad-d9fb-4a94-8b56-b75968559609",
   "metadata": {
    "nbgrader": {
     "grade": true,
     "grade_id": "cell-8ee5cb05e7ac18f9",
     "locked": true,
     "points": 5,
     "schema_version": 3,
     "solution": false,
     "task": false
    },
    "tags": []
   },
   "outputs": [],
   "source": [
    "### BEGIN HIDDEN TESTS\n",
    "expected_filtered = wk6_df[(wk6_df['stars_rating'] >= 8.5) & (wk6_df['stars_rating'] <= 9)]\n",
    "assert df_rating_filter_85_90.shape == expected_filtered.shape\n",
    "### END HIDDEN TESTS"
   ]
  },
  {
   "cell_type": "markdown",
   "id": "1fc91b8e-f4b8-4360-bfac-550cdba72028",
   "metadata": {
    "nbgrader": {
     "grade": false,
     "grade_id": "cell-a057dd11358ccd23",
     "locked": true,
     "schema_version": 3,
     "solution": false,
     "task": false
    }
   },
   "source": [
    "### Task 6\n",
    "\n",
    "We would like to filter all the movies, in which Tom Hanks has acted.\n",
    "\n",
    "To achieve this, you could first write down a filter `tom_hanks_filter`, which is a pandas Series, and which could be used as a boolean mask to filter to desired records. We recommend working with the `df_sorted`."
   ]
  },
  {
   "cell_type": "code",
   "execution_count": 12,
   "id": "465c6724-356e-4a8f-9693-7fdc041bb050",
   "metadata": {
    "nbgrader": {
     "grade": false,
     "grade_id": "cell-e7522c44cb786d6c",
     "locked": false,
     "schema_version": 3,
     "solution": true,
     "task": false
    },
    "tags": []
   },
   "outputs": [],
   "source": [
    "wk6_df = df.copy()\n",
    "df_sorted = df.sort_values(by='stars_rating', ascending=False)\n",
    "wk6_df_sorted = wk6_df.sort_values(by='stars_rating', ascending=False)\n",
    "\n",
    "tom_hanks_filter = df_sorted['actors'].apply(lambda actors: 'Tom Hanks' in actors)\n",
    "tom_hanks_movies = df_sorted[tom_hanks_filter]\n",
    "\n",
    "wk6_tom_hanks_filter = wk6_df_sorted['actors'].apply(lambda actors: 'Tom Hanks' in actors)\n",
    "wk6_tom_hanks_movies = wk6_df_sorted[wk6_tom_hanks_filter]\n"
   ]
  },
  {
   "cell_type": "code",
   "execution_count": 13,
   "id": "1971e07d-955d-405b-9f9a-e3f11be8242e",
   "metadata": {
    "nbgrader": {
     "grade": true,
     "grade_id": "cell-33dabcf0486ad254",
     "locked": true,
     "points": 5,
     "schema_version": 3,
     "solution": false,
     "task": false
    },
    "tags": []
   },
   "outputs": [],
   "source": [
    "### BEGIN HIDDEN TESTS\n",
    "\n",
    "wk6_tom_hanks_filter = wk6_df['actors'].apply(lambda actors: 'Tom Hanks' in actors)\n",
    "wk6_tom_hanks_movies = wk6_df[wk6_tom_hanks_filter]\n",
    "\n",
    "assert len(tom_hanks_movies) == len(wk6_tom_hanks_movies), \"The number of Tom Hanks movies does not match.\"\n",
    "\n",
    "### END HIDDEN TESTS"
   ]
  },
  {
   "cell_type": "markdown",
   "id": "d2e2fd8b-33fe-47a1-b526-28ce9442c9b2",
   "metadata": {
    "nbgrader": {
     "grade": false,
     "grade_id": "cell-8f3a35eb4d6f746c",
     "locked": true,
     "schema_version": 3,
     "solution": false,
     "task": false
    }
   },
   "source": [
    "### Task 7 (Read Only)\n",
    "\n",
    "There are several different types of summaries that one can generate for a given data frame. Let us take an example, where we are going to count movies for each rating, and plot the result, with number of movies along vertical axis and rating along horizontal axis."
   ]
  },
  {
   "cell_type": "code",
   "execution_count": 14,
   "id": "bcf7a67c-8dff-44b2-a8eb-e045e9c4904b",
   "metadata": {
    "nbgrader": {
     "grade": false,
     "grade_id": "cell-70fdee0c805d7bc7",
     "locked": true,
     "schema_version": 3,
     "solution": false,
     "task": false
    },
    "tags": []
   },
   "outputs": [
    {
     "data": {
      "text/plain": [
       "<Axes: xlabel='rating', ylabel='Number of Movies'>"
      ]
     },
     "execution_count": 14,
     "metadata": {},
     "output_type": "execute_result"
    },
    {
     "data": {
      "image/png": "[encoded data removed]",
      "text/plain": [
       "<Figure size 640x480 with 1 Axes>"
      ]
     },
     "metadata": {},
     "output_type": "display_data"
    }
   ],
   "source": [
    "# Load Libraries, if they are not done so far.\n",
    "import numpy as np\n",
    "import pandas as pd\n",
    "\n",
    "# Let us reload the data, in case, it is not done already. (Optional)\n",
    "df = pd.read_csv(\"imdb_ratings.tsv\", sep=\"\\t\")\n",
    "\n",
    "# access the column, and use the aggregate method value_counts() to count\n",
    "# the number of times a rating appears in the selected pandas series.\n",
    "df_ratings_movie_counts = df.iloc[:,0].value_counts().sort_index()\n",
    "\n",
    "# Use plot() method with named arguments.\n",
    "df_ratings_movie_counts.plot(kind=\"bar\",\n",
    "                             xlabel=\"rating\",\n",
    "                             ylabel=\"Number of Movies\",\n",
    "                             legend=False)"
   ]
  }
 ],
 "metadata": {
  "kernelspec": {
   "display_name": "Python 3 (ipykernel)",
   "language": "python",
   "name": "python3"
  },
  "language_info": {
   "codemirror_mode": {
    "name": "ipython",
    "version": 3
   },
   "file_extension": ".py",
   "mimetype": "text/x-python",
   "name": "python",
   "nbconvert_exporter": "python",
   "pygments_lexer": "ipython3",
   "version": "3.11.4"
  }
 },
 "nbformat": 4,
 "nbformat_minor": 5
}
