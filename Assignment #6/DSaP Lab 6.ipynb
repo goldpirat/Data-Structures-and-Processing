{
 "cells": [
  {
   "cell_type": "markdown",
   "id": "9578795f-723e-46cc-b7f4-faed37e6858e",
   "metadata": {},
   "source": [
    "# Data Structures and Processing\n",
    "\n",
    "## Week 8: Data Wrangling with Pandas"
   ]
  },
  {
   "cell_type": "markdown",
   "id": "e8b4d83d-aafa-4503-822b-25a9e318163f",
   "metadata": {
    "tags": []
   },
   "source": [
    "### Remarks:\n",
    "\n",
    "1. Press the `install requirements` button above to install the required packages.  See the `requirements.txt` for list of packages to be installed.\n",
    "\n",
    "2. Make sure that you are following the conventions.  For examples, `import pandas as pd`, which imports pandas packages and sets the abbreviation for it.\n",
    "\n",
    "3. Do not import the packages without the short names.  Doing so might lead to a namespace conflict, or unintended uses of functions coming from two libraries as a part of different implementations.\n",
    "\n",
    "4. We are assigning `None` to variables and use `pass` in the body of the functions, where we expect a solution from you.  Please replace these values and statements with your solution."
   ]
  },
  {
   "cell_type": "markdown",
   "id": "0c1d9d69-0a50-4804-93e5-113136c827ce",
   "metadata": {},
   "source": [
    "The exercises in this notebook are aligned with the material provided for the lecture."
   ]
  },
  {
   "cell_type": "markdown",
   "id": "b1aa9048-bfc7-4ee0-af22-fb0d78606569",
   "metadata": {},
   "source": [
    "### Load Libraries"
   ]
  },
  {
   "cell_type": "code",
   "execution_count": 1,
   "id": "2512a105-8759-4def-90bd-37977472539a",
   "metadata": {
    "tags": []
   },
   "outputs": [],
   "source": [
    "import numpy as np\n",
    "import pandas as pd"
   ]
  },
  {
   "cell_type": "markdown",
   "id": "e751bfb2-5db5-46d5-bd13-723193262db9",
   "metadata": {},
   "source": [
    "## MultiIndex\n"
   ]
  },
  {
   "cell_type": "markdown",
   "id": "ced24119-c44a-4e5d-b468-2e6a46103ef0",
   "metadata": {},
   "source": [
    "### Task 1\n",
    "\n",
    "Consider the `json` file named `entertain.json`(attached) and read it into a variable `df1` using the function `pd.read_json`."
   ]
  },
  {
   "cell_type": "code",
   "execution_count": 2,
   "id": "59d21efa-49bb-4360-ab8e-78edc62a5e0a",
   "metadata": {},
   "outputs": [],
   "source": [
    "# Reading the file using this function only requires the name of the file since it is in the same location.\n",
    "df1 = pd.read_json('entertain.json')"
   ]
  },
  {
   "cell_type": "code",
   "execution_count": 3,
   "id": "30355055",
   "metadata": {},
   "outputs": [],
   "source": [
    "assert df1.shape == (8, 6)"
   ]
  },
  {
   "cell_type": "markdown",
   "id": "51dbb8e8-81fd-4d49-9d4e-31502222b952",
   "metadata": {},
   "source": [
    "### Task 2\n",
    "\n",
    "We want to change the index of the imported `DataFrame`. More specifically, we would like to have two indexes.  The two indexes come from the columns named `\"rating\"` and `\"stars\"`.\n",
    "\n",
    "Define a new `DataFrame` by the name `df2` where `\"rating\"`and `\"stars\"` are indexes."
   ]
  },
  {
   "cell_type": "code",
   "execution_count": 4,
   "id": "c3105940-0c09-49e1-a5e0-55fc25aee127",
   "metadata": {},
   "outputs": [],
   "source": [
    "# Using set_index on df1 and storing result in df2.\n",
    "df2 = df1.set_index(['rating', 'stars'])"
   ]
  },
  {
   "cell_type": "code",
   "execution_count": 5,
   "id": "abe7b7c7",
   "metadata": {},
   "outputs": [],
   "source": [
    "assert df2.index[0] == ('PG-13', 7.5)"
   ]
  },
  {
   "cell_type": "markdown",
   "id": "49e7c316-a2fe-4a27-9cd0-5db6516642a1",
   "metadata": {},
   "source": [
    "### Task 3\n",
    "\n",
    "In the `DataFrame` named `df2`, defined above, we have two indexes: `\"rating\"` and `\"stars\"`, and *in this order*.  We want to change\n",
    "\n",
    "1. their order so that `\"stars\"` is the first index and `\"ratings\"` is the second one. You might want to use `swaplevel`.\n",
    "2. their case, i.e., make names of index columns upcase.\n",
    "\n",
    "Define a new `DataFrame` by the name `df3`, which is the same as `df2`, except that the indexes are swapped and they are in upcase form."
   ]
  },
  {
   "cell_type": "code",
   "execution_count": 6,
   "id": "da147490-fae4-4c03-a7cb-3fb0c0b78ddf",
   "metadata": {},
   "outputs": [],
   "source": [
    "# Swapping the levels and then renaming them. Could also be done the opposite way but\n",
    "# since it was asked this way I did it this way.\n",
    "df3 = df2.swaplevel('rating', 'stars').rename_axis(['STARS', 'RATING'])"
   ]
  },
  {
   "cell_type": "code",
   "execution_count": 7,
   "id": "31625872",
   "metadata": {},
   "outputs": [],
   "source": [
    "assert df3.index.names == ['STARS', 'RATING']"
   ]
  },
  {
   "cell_type": "markdown",
   "id": "ab359708-3e86-4be5-9fb9-0daa8cf3f3f1",
   "metadata": {},
   "source": [
    "### Task 4\n",
    "\n",
    "We have now data with two indexes. Let us say that we do not need this indexing, and furthermore, we would like to recover the data to a form where it was as it was imported into a `DataFrame`.  There are three ways to do it:\n",
    "\n",
    "1. One is to keep the data stored in a separate variable and define a new variable with the new indexes.  This might lead to a memory problem, when huge data is read into a `DataFrame`.\n",
    "\n",
    "2. Reread the data from the file into the desired variable again.\n",
    "\n",
    "3. Use the builtin function for reseting indexing in `pandas`.\n",
    "\n",
    "Use the third method above to reset index of the data stored in `df3` and put it in variable `df4` (we do not desire to modify the existing variable)."
   ]
  },
  {
   "cell_type": "code",
   "execution_count": 8,
   "id": "e84ab6fd-78c5-447f-91ba-43f8a2f6cf39",
   "metadata": {},
   "outputs": [],
   "source": [
    "# Using reset_index() on df3 and storing result in df4. \n",
    "df4 = df3.reset_index()"
   ]
  },
  {
   "cell_type": "code",
   "execution_count": 9,
   "id": "9e54fb62-fe1e-4b68-8430-272893ad3da5",
   "metadata": {},
   "outputs": [],
   "source": [
    "assert len(df4.columns) == 6"
   ]
  },
  {
   "cell_type": "markdown",
   "id": "df1c5c2c-a4c0-4bda-b2de-b2494628aa25",
   "metadata": {},
   "source": [
    "### Task 5\n",
    "\n",
    "Recall from the beginning of this set of exercises that we have imported data from a `json` file.  The data that is in hierarchical form is usually stored in this format.  There are other ways to store such data too, for example as an `xml` format, to name only another one beside `json`.  You might have noticed as we have imported the data that it was presented in a tabular format, and it was done by assigning some `NaN` value to some of the entries, because the corresponding values were missing.  For example, the `\"Quiz Show\"` has `\"genre\"` `NaN`.  Compare it with the json file, where `\"Quiz Show\"`, does not have any value for `\"genre\"`.\n",
    "\n",
    "Recall that in `pandas`, tabular data can be converted into a hierarchical data using the `stack()` method.\n",
    "\n",
    "Create a new `DataFrame`, called `df5`, from `df3` and use the method `stack()` to present it in hierarchical form."
   ]
  },
  {
   "cell_type": "code",
   "execution_count": 10,
   "id": "99da9a55-d4d4-4905-9fb6-e2377cd66bac",
   "metadata": {},
   "outputs": [],
   "source": [
    "# Using stack() on df3 and storing result in df5. \n",
    "df5 = df3.stack()"
   ]
  },
  {
   "cell_type": "code",
   "execution_count": 11,
   "id": "ae43fadc-146b-4edd-a585-eef99710c26e",
   "metadata": {},
   "outputs": [],
   "source": [
    "assert df5.index[0] == (7.5, 'PG-13', 'title')"
   ]
  },
  {
   "cell_type": "markdown",
   "id": "f477cef0-cbdb-40e4-bc2f-79f3ca64ab2c",
   "metadata": {},
   "source": [
    "### Task 6\n",
    "\n",
    "Consider the hierarchical `DataFrame` `df5`, and filter it down to all the entries with `\"rating\"` `\"PG-13\"`.  Store the result in the variable `df6`."
   ]
  },
  {
   "cell_type": "code",
   "execution_count": 12,
   "id": "b03ce08a-9db5-4bf3-b808-6963067ca5cf",
   "metadata": {},
   "outputs": [],
   "source": [
    "# Filtering df5 to include entries where the second level of 'RATING' is \"PG-13\"\n",
    "# The slice(None) indicates that we do not filter the other levels.\n",
    "df6 = df5.loc[(slice(None), 'PG-13', slice(None))]"
   ]
  },
  {
   "cell_type": "code",
   "execution_count": 13,
   "id": "52ba3df1",
   "metadata": {},
   "outputs": [],
   "source": [
    "assert len(df6) == 11"
   ]
  },
  {
   "cell_type": "markdown",
   "id": "402f7784-4b30-433c-9069-2bb2e33fbb62",
   "metadata": {},
   "source": [
    "### Task 7\n",
    "\n",
    "Let us consider a case, where we are given two `DataFrame`s with `MultiIndex`, we would like to merge them using a column as a reference.  There are several different functions available in `pandas` for such a purpose.\n",
    "\n",
    "Let us define two variable `df71` and `df72`.  These `DataFrame`s help us demonstrate what is stated above.  In practice, the two `DataFrame`s may come from different sources unlike how we have defined them.\n",
    "\n",
    "Define a variable `df7`, which contains a merge of `df71` and `df72` on the column `\"title\"`.  Make sure that the returned table has the `MultiIndex` inherited and it is not stripped away. You can do in by resetting index and setting it back after merge or by using `combine_first` function."
   ]
  },
  {
   "cell_type": "code",
   "execution_count": 14,
   "id": "4cb24d52-daef-420b-84c8-608df97cf04d",
   "metadata": {},
   "outputs": [],
   "source": [
    "# This part is given code:\n",
    "df71 = df2[[\"title\", \"duration\"]]\n",
    "df72 = df2[[\"genre\", \"title\"]]\n",
    "\n",
    "# Ensure both have 'title'.\n",
    "df71_i = df71.set_index('title', append=True)\n",
    "df72_i = df72.set_index('title', append=True)\n",
    "\n",
    "# Combining df71_i and df72_i using combine_first as advised and storing it in df7.\n",
    "df7 = df71_i.combine_first(df72_i)\n",
    "\n",
    "# Resetting the 'title' from the index.\n",
    "df7 = df7.reset_index(level='title')"
   ]
  },
  {
   "cell_type": "code",
   "execution_count": 15,
   "id": "bf52222d",
   "metadata": {},
   "outputs": [],
   "source": [
    "assert df7.index.names == ['rating', 'stars']\n",
    "assert df7.shape == (8, 3)"
   ]
  },
  {
   "cell_type": "markdown",
   "id": "2e5462d5-80cc-440a-aace-6f3b4f5b9629",
   "metadata": {},
   "source": [
    "### Task 8 (Bonus)\n",
    "\n",
    "Consider the file `taxi.csv` in the attachment. Your task is to follow the discussion in the section \"Reshaping and Pivoting\", using the data in this file.\n",
    "\n",
    "Explain what goes wrong. You could write your remarks as comments or in new blocks."
   ]
  },
  {
   "cell_type": "code",
   "execution_count": 16,
   "id": "336b8a31-7744-4f8b-ac85-36e6b751aad9",
   "metadata": {},
   "outputs": [],
   "source": [
    "# Since it says Bonus. I decided to not do it this time."
   ]
  },
  {
   "cell_type": "code",
   "execution_count": null,
   "id": "173935d9",
   "metadata": {},
   "outputs": [],
   "source": []
  },
  {
   "cell_type": "code",
   "execution_count": null,
   "id": "17e79915",
   "metadata": {},
   "outputs": [],
   "source": []
  }
 ],
 "metadata": {
  "kernelspec": {
   "display_name": "Python 3 (ipykernel)",
   "language": "python",
   "name": "python3"
  },
  "language_info": {
   "codemirror_mode": {
    "name": "ipython",
    "version": 3
   },
   "file_extension": ".py",
   "mimetype": "text/x-python",
   "name": "python",
   "nbconvert_exporter": "python",
   "pygments_lexer": "ipython3",
   "version": "3.11.4"
  },
  "name": "week8.ipynb"
 },
 "nbformat": 4,
 "nbformat_minor": 5
}
