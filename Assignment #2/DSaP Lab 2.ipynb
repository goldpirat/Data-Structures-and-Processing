{
 "cells": [
  {
   "cell_type": "markdown",
   "id": "0fae778a",
   "metadata": {
    "editable": true,
    "nbgrader": {
     "grade": false,
     "grade_id": "cell-0acf8e7ddaac2089",
     "locked": true,
     "schema_version": 3,
     "solution": false,
     "task": false
    },
    "slideshow": {
     "slide_type": ""
    },
    "tags": []
   },
   "source": [
    "# Data Structures and Processing\n",
    "\n",
    "## Week2: Introduction to Python (Cont.)\n"
   ]
  },
  {
   "cell_type": "markdown",
   "id": "78f50c42",
   "metadata": {
    "nbgrader": {
     "grade": false,
     "grade_id": "cell-20a38328e0393ae5",
     "locked": true,
     "schema_version": 3,
     "solution": false,
     "task": false
    }
   },
   "source": [
    "## Note\n",
    "\n",
    "Although we have covered the section on custom function or user defined function at the end of week 2's content, we would like to incorporate into practice right from beginning for two reasons:\n",
    "\n",
    "* defining function becomes natural to you, and that you be able to extract out of your blocks a utility that could be used as many times as you please.\n",
    "\n",
    "* we would like to run small tests against your functions to see if your utilities work as expected in several different scenarios.  This is called unit testing the functions, code or utility."
   ]
  },
  {
   "cell_type": "markdown",
   "id": "5bc25686",
   "metadata": {
    "nbgrader": {
     "grade": false,
     "grade_id": "cell-54b3251e8cbdac05",
     "locked": true,
     "schema_version": 3,
     "solution": false,
     "task": false
    }
   },
   "source": [
    "## Revisiting Personal Database\n",
    "\n",
    "Recall that in the previous Jupyter notebook, we have asked you to make a small database, which you could use it for personal use.  We want to make it more functional and close to a real use case.\n",
    "\n",
    "Let us describe the expectations and provide a framework.\n",
    "\n",
    "* The database file `bibliox.txt` is stored on the disk.\n",
    "* Each line of the file `biblio.txt` is a dictionary entry of a record.  Here is how a sample line in the file looks like.\n",
    "\n",
    "    `{\"id\": \"skiena2017data\", \"title\": \"The data science design manual\", \"authors\": [\"Steven Skiena\"], \"year\": 2017, \"publisher\": \"Springer\"}`\n",
    "\n",
    "We expect\n",
    "\n",
    "* a function, named `biblio_from_file`, that could read the lines of the file `biblio.txt` and return a list of `dict`objects in Python.  The function should be able to take the name of the file as an argument.\n",
    "\n",
    "* a function, named `biblio_to_file` that takes writes to a given file name.  We use this function to ship the data to a file on computer.\n",
    "\n",
    "* a function named `biblio_add_record`, that takes a list as a first argument (the list of records) and a `dict` element (a new record) and adds the record to the file.  The record should be returned if added successfully.\n",
    "\n",
    "* a function named `biblio_record_presenet`, that takes a list as a first argument (the list of records), and a `dict`element as a second argument and determines if a record is present in the list.\n",
    "\n",
    "* a function named `biblio_query_record_by_author`, that takes a list as a first argument (the list of records), and a `str` element as a second argument (the name of an author for an entry), and returns the list of all the matching records.\n",
    "\n",
    "* a function named `biblio_remove_record` that takes a list as a first argument (the list of records), and a `dict` element as a second argument and removes it from the database."
   ]
  },
  {
   "cell_type": "markdown",
   "id": "60b42b88",
   "metadata": {
    "nbgrader": {
     "grade": false,
     "grade_id": "cell-afdb69c7a799080b",
     "locked": true,
     "schema_version": 3,
     "solution": false,
     "task": false
    }
   },
   "source": [
    "## Hints for a Solution to the Task on Personal Database\n",
    "\n",
    "In the following sections, we are going to provide some hints that might be useful in writing down all the utilities desired for the task of a functional database.  You are suggested to think about them on your own and ignore the hints at first, but you are very welcomed to have a look at our suggestions, and provide your own solution."
   ]
  },
  {
   "cell_type": "markdown",
   "id": "80fd234c-e0a6-4e24-baa9-74f32135905c",
   "metadata": {
    "nbgrader": {
     "grade": false,
     "grade_id": "cell-25e60eb870ca7440",
     "locked": true,
     "schema_version": 3,
     "solution": false,
     "task": false
    }
   },
   "source": [
    "## Hints: Reading the database file\n",
    "\n",
    "\n",
    "### `biblio_from_file`\n",
    "\n",
    "We have suggested to write down a function that could read the contents of a file and returns a list of records.\n",
    "\n",
    "We suggest to break the task down into even smaller tasks or sub-tasks.  For example, we could use the `readlines()` method to read all the lines of the file into a `list` object.  This is easier.  If you look at an element of this list, you may notice that it is a `str` and contains a record together with some characters that we do not need, for example, the spaces or the braces `{`, `}`, or even the newline character `\\n`. Therefore, at this point, we should concentrate on working on a helpful utility that could parse the line and return a `dict` element.  If we succeed in this, then we can use an iterative structure--the `for` loop, together with the newly defined utility to obtain the list of records as we need it.\n",
    "\n",
    "Let us recall again how a line in the file looks like after it is read in.\n",
    "\n",
    "        '{\"id\": \"skiena2017data\", \"title\": \"The data science design manual\", \"authors\": [\"Steven Skiena\"], \"year\": 2017, \"publisher\": \"Springer\"}\\n'\n",
    "\n",
    "Notice that the line is read as string but it contains different \"strings\" signified by the use of the doubl quotation marks `\"`.\n",
    "\n",
    "Let us write our observations and write utilities to act on them.\n",
    "\n",
    "* The line contains the characters `{`, `}` and `\\n`, which we do not need.  This means that we need to write down a function that would remove them.  The utility should return the cleaned string.\n",
    "\n",
    "* After we have removed the undesired characters, the new string should look like the following\n",
    "\n",
    "        '\"id\": \"skiena2017data\", \"title\": \"The data science design manual\", \"authors\": [\"Steven Skiena\"], \"year\": 2017, \"publisher\": \"Springer\"'\n",
    "    \n",
    "* In the cleaned line, we have a different parts that are meant to be the `key-value` pair for the `dict` object--our record.  We see that these are separated by a `,`.  Therefore, we need to find a way to break the string into several different parts and obtain a list of strings containing these `key-value` strings.  A helpful `str` method for such a purpose is the `split()`, which takes a string argument and splits that string at exactly that and returns a list. In our case, we want to split at `,`, therefore, we would use `split(\",\")` on the new line.  Our record after applying the utlity would look like the following.\n",
    "\n",
    "        ['\"id\": \"skiena2017data\"',\n",
    "         ' \"title\": \"The data science design manual\"',\n",
    "         ' \"authors\": [\"Steven Skiena\"]',\n",
    "         ' \"year\": 2017',\n",
    "         ' \"publisher\": \"Springer\"']\n",
    "  \n",
    "  Notice that the second element in the above list is `' \"title\": \"The data science design manual\"'`. It has an extra white space at the beginning of the string.  We should make sure that our utility function takes care of it by removing the leading or the trailing spaces.  We do not know how many spaces there are, but they need to be removed.  A useful method for removing leading or trailing space is `strip()`. This method does not take any argument and removes the leading and the trailing spaces from a string, regardless of their number.\n",
    "\n",
    "  If we have defined our function correctly, then the output should look lik the following.\n",
    "  \n",
    "        ['\"id\": \"skiena2017data\"',\n",
    "         '\"title\": \"The data science design manual\"',\n",
    "         '\"authors\": [\"Steven Skiena\"]',\n",
    "         '\"year\": 2017',\n",
    "         '\"publisher\": \"Springer\"']\n",
    "         \n",
    "* Now need to actually take the members of the list and write down a utility that would return a dictionary.  We could divide this task into subtasks, where we first concentrate on a member of a list which should provide the `key-value` pair.  For example, let us concentrate on the string `'\"title\": \"The data science design manual\"`.  There might be several ways to go forward from here.  But one interesting way is to use our previosly defined utility which splitted the given string at `,`, removed the leading and trailing spaces, and returned a list.  Notice that we need the same utility but with a small change that the character at which we want to split now is not `,`, but it is `:`.  This takes us one step back, and motivates us to add the splitting charachter a part of our input parameters of our utility, because it would then provide us more control.\n",
    "\n",
    "  If the utility is redefined, or another utility is defined instead, we should have as our result the following list\n",
    "\n",
    "        ['title', 'The data science design manual']\n",
    "        \n",
    "   We can the first element (at index 0) as the key and the second element (at index 1) as the corresponding value to build a dictionary or add it to a dictionary.\n",
    "  "
   ]
  },
  {
   "cell_type": "markdown",
   "id": "24b6b800-9d6a-4473-acd2-7a241ce6f3b0",
   "metadata": {
    "nbgrader": {
     "grade": false,
     "grade_id": "cell-c9a6e1e3e73e0ab7",
     "locked": true,
     "schema_version": 3,
     "solution": false,
     "task": false
    }
   },
   "source": [
    " By this point, you should be able to put all the utilities, defined above, together with iterative loops to build the function `biblio_from_file`.\n",
    "\n",
    "### `biblio_to_file`\n",
    "\n",
    "This function might be easier to write as compared to the previous `biblio_from_file`.\n",
    "\n",
    "The situaiton is that we have our record `biblio`, which is a list of `dict`objects--the records. We should be able to use the `for`statement to write each element of the list `biblio` as a line in the output file.  We leave the details for you to think and provide the solution."
   ]
  },
  {
   "cell_type": "code",
   "execution_count": 1,
   "id": "bdca436d-ebbd-4667-9139-9dfdcb056dc2",
   "metadata": {
    "tags": []
   },
   "outputs": [],
   "source": [
    "import json\n",
    "\n",
    "def biblio_from_file(filename):\n",
    "    with open(filename, 'r') as file:\n",
    "        return [json.loads(line.strip()) for line in file.readlines()]\n"
   ]
  },
  {
   "cell_type": "code",
   "execution_count": 2,
   "id": "b3d14369-a67c-498c-857b-738fc4ef31f3",
   "metadata": {
    "nbgrader": {
     "grade": false,
     "grade_id": "cell-6b70252b4f8e2376",
     "locked": false,
     "schema_version": 3,
     "solution": true,
     "task": false
    }
   },
   "outputs": [],
   "source": [
    "def biblio_to_file(biblio, filename):\n",
    "    with open(filename, 'w') as file:\n",
    "        for record in biblio:\n",
    "            file.write(json.dumps(record) + '\\n')\n",
    "    return biblio\n"
   ]
  },
  {
   "cell_type": "code",
   "execution_count": 3,
   "id": "cb145e79-e07b-490b-964a-b542f7efe476",
   "metadata": {
    "nbgrader": {
     "grade": true,
     "grade_id": "cell-ac19497a0bcaa55e",
     "locked": true,
     "points": 10,
     "schema_version": 3,
     "solution": false,
     "task": false
    }
   },
   "outputs": [],
   "source": [
    "### BEGIN HIDDEN TESTS\n",
    "sample_biblio = biblio_from_file(\"biblio.txt\")\n",
    "returned_biblio = biblio_to_file(sample_biblio, \"temp_biblio_test.txt\")\n",
    "\n",
    "assert type(returned_biblio) == list, \"The function does not return a list, as expected.\"\n",
    "assert returned_biblio == sample_biblio, \"The function does not return the same list of dictionaries provided.\"\n",
    "\n",
    "### END HIDDEN TESTS\n"
   ]
  },
  {
   "cell_type": "markdown",
   "id": "e668b298-509f-4ab6-b447-3518963433d8",
   "metadata": {
    "nbgrader": {
     "grade": false,
     "grade_id": "cell-98dbfe200dfbfa89",
     "locked": true,
     "schema_version": 3,
     "solution": false,
     "task": false
    }
   },
   "source": [
    "### `biblio_add_record`\n",
    "\n",
    "This function is also easier to write.\n",
    "\n",
    "The situation is that we have a list and we want to add an element to it. A better version would be to see if the record is also available in `biblio`, before actually adding it.  There is no need to add a record if it is already a part of the database.  Therefore, before defining this function, we should defined the following which checks if a record is already present."
   ]
  },
  {
   "cell_type": "code",
   "execution_count": 4,
   "id": "07428fff-0fd9-47eb-9c55-40b53bffb3fb",
   "metadata": {
    "nbgrader": {
     "grade": false,
     "grade_id": "cell-d075412b8b44fb76",
     "locked": false,
     "schema_version": 3,
     "solution": true,
     "task": false
    }
   },
   "outputs": [],
   "source": [
    "def biblio_add_record(biblio, record):\n",
    "    if not any(rec['id'] == record['id'] for rec in biblio):\n",
    "        biblio.append(record)\n",
    "    return biblio\n"
   ]
  },
  {
   "cell_type": "code",
   "execution_count": 5,
   "id": "e5f4b83f-49a7-4908-929e-fb459c395ee8",
   "metadata": {
    "nbgrader": {
     "grade": true,
     "grade_id": "cell-65ed98d7df10f024",
     "locked": true,
     "points": 5,
     "schema_version": 3,
     "solution": false,
     "task": false
    }
   },
   "outputs": [],
   "source": [
    "### BEGIN HIDDEN TESTS\n",
    "biblio = biblio_from_file(\"biblio.txt\")\n",
    "xrecord = {\"id\": \"skiena2017dt\", \"title\": \"The data science design manual\", \"authors\": [\"Steven Skiena\"], \"year\": 2017, \"publisher\": \"Springer\"}\n",
    "\n",
    "# Add the new record\n",
    "updated_biblio = biblio_add_record(biblio, xrecord)\n",
    "\n",
    "# Verify the record was added\n",
    "assert xrecord in updated_biblio, \"The record was not added as expected.\"\n",
    "### END HIDDEN TESTS\n"
   ]
  },
  {
   "cell_type": "markdown",
   "id": "8ce4def6-aa61-476c-8e19-c7b6253a73c6",
   "metadata": {
    "nbgrader": {
     "grade": false,
     "grade_id": "cell-69ee2615adeafca2",
     "locked": true,
     "schema_version": 3,
     "solution": false,
     "task": false
    }
   },
   "source": [
    "### `biblio_record_present`\n",
    "\n",
    "This function is one the simplest.  But we would like to have it for completion of our system.\n",
    "\n",
    "The situation is that we have a list and we want to check an object is in the list.  We use the infix operator `in` which returns one of the boolean values: `True` or `False`."
   ]
  },
  {
   "cell_type": "code",
   "execution_count": 6,
   "id": "eb2dcaa1-9401-418e-8335-972abe02e828",
   "metadata": {
    "nbgrader": {
     "grade": false,
     "grade_id": "cell-d06e3cd3cc3314f8",
     "locked": false,
     "schema_version": 3,
     "solution": true,
     "task": false
    }
   },
   "outputs": [],
   "source": [
    "# Your solution to `biblio_record_present` goes here\n",
    "def biblio_record_present(biblio, record):\n",
    "    return any(rec['id'] == record['id'] for rec in biblio)\n"
   ]
  },
  {
   "cell_type": "code",
   "execution_count": 7,
   "id": "528262b2-5ed5-4f27-9ebb-0812eed1ab87",
   "metadata": {
    "nbgrader": {
     "grade": true,
     "grade_id": "cell-964eee18bf246ac7",
     "locked": true,
     "points": 2,
     "schema_version": 3,
     "solution": false,
     "task": false
    }
   },
   "outputs": [],
   "source": [
    "### BEGIN HIDDEN TESTS\n",
    "biblio = biblio_from_file(\"biblio.txt\")\n",
    "xrecord = {\"id\": \"skiena2017data\", \"title\": \"The data science design manual\", \"authors\": [\"Steven Skiena\"], \"year\": 2017, \"publisher\": \"Springer\"}\n",
    "\n",
    "# Check the record's presence\n",
    "assert biblio_record_present(biblio, xrecord) == True, \"The record should be present.\"\n",
    "### END HIDDEN TESTS\n"
   ]
  },
  {
   "cell_type": "markdown",
   "id": "144dd734-214a-4bf6-b2a9-02a7719f41f3",
   "metadata": {
    "nbgrader": {
     "grade": false,
     "grade_id": "cell-883daef22542fba1",
     "locked": true,
     "schema_version": 3,
     "solution": false,
     "task": false
    }
   },
   "source": [
    "### `biblio_query_record_by_author`\n",
    "\n",
    "This function filters for matching records and returns a list.\n",
    "\n",
    "To define this function, we basically rely on the `for` statement which would take each record (a `dict` object), let us call it `record`, and gets the value of authors by `record[\"author\"]`, which is a list of authors for a particular bibliographic entry.  We can then use our given string together with the `in` operator to determine the corresponding boolean value.  `True` would mean that the the `record` matches and we should append it to a temporary list that we are going to return.  We append using the `list` method `append()`. If `False` is returned, then it means that we ignore it."
   ]
  },
  {
   "cell_type": "code",
   "execution_count": 8,
   "id": "65f45ddb-4c4c-4bb9-b2da-cf49755c2c23",
   "metadata": {
    "nbgrader": {
     "grade": false,
     "grade_id": "cell-b3cb5e8e421ba323",
     "locked": false,
     "schema_version": 3,
     "solution": true,
     "task": false
    }
   },
   "outputs": [],
   "source": [
    "def biblio_query_record_by_author(biblio, author):\n",
    "    return [record for record in biblio if author in record['authors']]\n"
   ]
  },
  {
   "cell_type": "code",
   "execution_count": 9,
   "id": "b19875a1-58fb-4213-b059-fd0c33fc3873",
   "metadata": {
    "nbgrader": {
     "grade": true,
     "grade_id": "cell-d972c1b4cf55b55f",
     "locked": true,
     "points": 5,
     "schema_version": 3,
     "solution": false,
     "task": false
    }
   },
   "outputs": [],
   "source": [
    "### BEGIN HIDDEN TESTS\n",
    "biblio = biblio_from_file(\"biblio.txt\")\n",
    "\n",
    "xrecord = {\"id\": \"skiena2017data\", \"title\": \"The data science design manual\", \"authors\": [\"Steven Skiena\"], \"year\": 2017, \"publisher\": \"Springer\"}\n",
    "\n",
    "matching_records = biblio_query_record_by_author(biblio, \"Steven Skiena\")\n",
    "\n",
    "assert any(rec['id'] == xrecord['id'] for rec in matching_records), \"The matching record was not found.\"\n",
    "### END HIDDEN TESTS\n"
   ]
  },
  {
   "cell_type": "markdown",
   "id": "d7967667-a68b-40e9-a701-d3a764c7e2e8",
   "metadata": {
    "nbgrader": {
     "grade": false,
     "grade_id": "cell-8511f5c8d7095e8e",
     "locked": true,
     "schema_version": 3,
     "solution": false,
     "task": false
    }
   },
   "source": [
    "### `biblio_query_record_by_key` (optional)\n",
    "\n",
    "We have not asked for this function, but it is worth thinking that we might want to retrieve list of records on the basis of other criteria than just the `author`.  One way is to define function for all possible keys that we could include, or the second option is to define a generate function that takes `key-value` pair as arguments and returns all the matched records.\n",
    "\n",
    "After having the `biblio_query_record_by_author` defined, it is not hard to define the abstracted version.  We leave it as a small exercise to think how to best do it."
   ]
  },
  {
   "cell_type": "markdown",
   "id": "c5224c04-1dca-4320-9828-8e10e285ff89",
   "metadata": {
    "nbgrader": {
     "grade": false,
     "grade_id": "cell-886b7eb96358ad8f",
     "locked": true,
     "schema_version": 3,
     "solution": false,
     "task": false
    }
   },
   "source": [
    "### `biblio_remove_record`\n",
    "\n",
    "The simplest thinking here is that we have a list of records and we want to remove the records if it is present.  Our function `biblio_record_present`, already defined, might be helpful to check if a record is present.\n",
    "\n",
    "Another way could be to use the `list` method `remove()` that takes the object as an argument that we want to remove.  There is a need to be careful here. If the object that we are trying to remove is not present in the first place, then the method `remove()` returns `TypeError`.  At this point, we can either our utility function or use the `try...except` to avoid the error."
   ]
  },
  {
   "cell_type": "code",
   "execution_count": 10,
   "id": "57b3f4e7-12e0-446a-be09-8b9b13f8781b",
   "metadata": {
    "nbgrader": {
     "grade": false,
     "grade_id": "cell-733a1907ce49b3c5",
     "locked": false,
     "schema_version": 3,
     "solution": true,
     "task": false
    }
   },
   "outputs": [],
   "source": [
    "def biblio_remove_record(biblio, record):\n",
    "    biblio = [rec for rec in biblio if rec['id'] != record['id']]\n",
    "    return biblio\n"
   ]
  },
  {
   "cell_type": "code",
   "execution_count": 11,
   "id": "0b0cdd3f-f12f-4e29-a985-2e8491b78934",
   "metadata": {
    "nbgrader": {
     "grade": true,
     "grade_id": "cell-b1db669c4f9e8d72",
     "locked": true,
     "points": 5,
     "schema_version": 3,
     "solution": false,
     "task": false
    }
   },
   "outputs": [],
   "source": [
    "### BEGIN HIDDEN TESTS\n",
    "biblio = biblio_from_file(\"temp_biblio_test.txt\")\n",
    "\n",
    "xrecord = {\"id\": \"skiena2017data\", \"title\": \"The data science design manual\", \"authors\": [\"Steven Skiena\"], \"year\": 2017, \"publisher\": \"Springer\"}\n",
    "\n",
    "if not any(rec['id'] == xrecord['id'] for rec in biblio):\n",
    "    biblio.append(xrecord)\n",
    "\n",
    "updated_biblio = biblio_remove_record(biblio, xrecord)\n",
    "biblio_to_file(updated_biblio, \"temp_biblio_test.txt\")\n",
    "\n",
    "biblio_after_removal = biblio_from_file(\"temp_biblio_test.txt\")\n",
    "assert not any(rec['id'] == xrecord['id'] for rec in biblio_after_removal), \"The record was not removed as expected.\"\n",
    "### END HIDDEN TESTS\n"
   ]
  }
 ],
 "metadata": {
  "kernelspec": {
   "display_name": "Python 3 (ipykernel)",
   "language": "python",
   "name": "python3"
  },
  "language_info": {
   "codemirror_mode": {
    "name": "ipython",
    "version": 3
   },
   "file_extension": ".py",
   "mimetype": "text/x-python",
   "name": "python",
   "nbconvert_exporter": "python",
   "pygments_lexer": "ipython3",
   "version": "3.11.4"
  }
 },
 "nbformat": 4,
 "nbformat_minor": 5
}
